{
 "cells": [
  {
   "cell_type": "markdown",
   "metadata": {},
   "source": [
    "# Quantum Neural Networks\n",
    "\n",
    "### Quantum Neural Networks from scratch using Python and Qiskit\n",
    "https://medium.com/@SMalapet/quantum-neural-networks-from-scratch-using-python-and-qiskit-d90d41af2a9a\n",
    "\n",
    "### Quantum computing and its applications series: Introduction to quantum computer\n",
    "https://medium.com/@SMalapet/quantum-computing-and-its-applications-series-introduction-to-quantum-computer-2850041c0042\n",
    "\n",
    "### Quantum computing and its applications series: Simple quantum circuit\n",
    "https://medium.com/@SMalapet/quantum-computing-and-its-applications-series-simple-quantum-circuit-10bdcadcb285\n",
    "\n",
    "### Quantum computing and its applications series: Half-Adder circuit\n",
    "https://medium.com/@SMalapet/quantum-computing-and-its-applications-series-half-adder-circuit-feca147a2f69\n",
    "\n",
    "### Quantum computing and its applications series: Portfolio optimization of crypto assets using Quantum computer\n",
    "https://medium.com/@SMalapet/quantum-computing-and-its-applications-series-portfolio-optimization-of-crpyto-assets-using-ca94727fce7"
   ]
  },
  {
   "cell_type": "code",
   "execution_count": 1,
   "metadata": {},
   "outputs": [],
   "source": [
    "from sklearn import model_selection, datasets, svm\n",
    "from qiskit import QuantumCircuit, Aer, IBMQ, QuantumRegister, ClassicalRegister\n",
    "import copy\n",
    "import matplotlib.pyplot as plt\n",
    "import numpy as np\n",
    "import qiskit"
   ]
  },
  {
   "cell_type": "code",
   "execution_count": 2,
   "metadata": {},
   "outputs": [],
   "source": [
    "iris = datasets.load_iris()\n",
    "X = iris.data[0:100]\n",
    "Y = iris.target[0:100]\n",
    "X_train,X_test,Y_train,Y_test = model_selection.train_test_split(X,Y,test_size=0.33,random_state=42)"
   ]
  },
  {
   "cell_type": "code",
   "execution_count": 3,
   "metadata": {},
   "outputs": [
    {
     "name": "stdout",
     "output_type": "stream",
     "text": [
      "[0 1 0 1 1 0 0 0 0 0 1 0 0 1 0 1 0 0 0 0 0 0 1 0 1 0 1 1 1 1 0 1 1 0 1 1 1\n",
      " 1 0 1 0 1 1 1 0 1 1 1 1 0 0 0 1 0 0 0 1 1 1 1 1 0 1 1 0 1 1] 67\n"
     ]
    }
   ],
   "source": [
    "print(Y_train,len(Y_train))"
   ]
  },
  {
   "cell_type": "code",
   "execution_count": 4,
   "metadata": {},
   "outputs": [
    {
     "name": "stdout",
     "output_type": "stream",
     "text": [
      "[5.2 3.4 1.4 0.2] 67\n"
     ]
    }
   ],
   "source": [
    "print(X_train[0],len(X_train))"
   ]
  },
  {
   "cell_type": "code",
   "execution_count": 5,
   "metadata": {},
   "outputs": [],
   "source": [
    "# N must be equal number of features\n",
    "N = 4"
   ]
  },
  {
   "cell_type": "code",
   "execution_count": 6,
   "metadata": {},
   "outputs": [],
   "source": [
    "# Change data point to different rotation\n",
    "def feature_map(X,N=4,C=1):\n",
    "    q = QuantumRegister(N)\n",
    "    c = ClassicalRegister(C)\n",
    "    qc = QuantumCircuit(q,c)\n",
    "\n",
    "    for i,x in enumerate(X):\n",
    "        qc.rx(x,i)\n",
    "\n",
    "    return qc,c"
   ]
  },
  {
   "cell_type": "code",
   "execution_count": 7,
   "metadata": {},
   "outputs": [],
   "source": [
    "def variational_circuit(qc,theta):\n",
    "    \n",
    "    # Pass through qubit information from quibit to another qubit\n",
    "    for i in range(N-1):\n",
    "        qc.cnot(i,i+1)\n",
    "    qc.cnot(N-1,0)\n",
    "    \n",
    "    # Rotation angle to be learned [optimized]\n",
    "    for i in range(N):\n",
    "        qc.ry(theta[i],i)\n",
    "    return qc"
   ]
  },
  {
   "cell_type": "code",
   "execution_count": 8,
   "metadata": {},
   "outputs": [
    {
     "name": "stdout",
     "output_type": "stream",
     "text": [
      "{'0': 3401, '1': 6599}\n",
      "0.6599\n"
     ]
    },
    {
     "data": {
      "image/png": "[encoded data removed]",
      "text/plain": [
       "<Figure size 890.803x451.5 with 1 Axes>"
      ]
     },
     "execution_count": 8,
     "metadata": {},
     "output_type": "execute_result"
    }
   ],
   "source": [
    "qc,c = feature_map(X_train[5],N,C=1)\n",
    "\n",
    "qc.barrier()\n",
    "\n",
    "qc = variational_circuit(qc,np.random.rand(N))\n",
    "\n",
    "qc.barrier()\n",
    "\n",
    "qc.measure(0,c)\n",
    "\n",
    "shots = 1E4\n",
    "backend = Aer.get_backend('qasm_simulator')\n",
    "job = qiskit.execute(qc,backend=backend,shots=shots)\n",
    "result = job.result()\n",
    "counts = result.get_counts(qc)\n",
    "print(counts)\n",
    "print(counts['1']/shots)\n",
    "\n",
    "qc.draw('mpl')"
   ]
  },
  {
   "cell_type": "code",
   "execution_count": 9,
   "metadata": {},
   "outputs": [
    {
     "name": "stdout",
     "output_type": "stream",
     "text": [
      "1\n"
     ]
    }
   ],
   "source": [
    "# Example of targeted label want to be predicted\n",
    "print(Y_train[1])"
   ]
  },
  {
   "cell_type": "code",
   "execution_count": 10,
   "metadata": {},
   "outputs": [],
   "source": [
    "def quantum_nn(X,theta,N=4,C=1,simulator=True):\n",
    "    qc,c = feature_map(X,N,C)\n",
    "    qc = variational_circuit(qc,theta)\n",
    "    qc.measure(0,c)\n",
    "\n",
    "    shots = 1E4\n",
    "    backend = Aer.get_backend('qasm_simulator')\n",
    "    job = qiskit.execute(qc,backend=backend,shots=shots)\n",
    "    result = job.result()\n",
    "    counts = result.get_counts(qc)\n",
    "\n",
    "    return (counts['1']/shots)"
   ]
  },
  {
   "cell_type": "code",
   "execution_count": 11,
   "metadata": {},
   "outputs": [],
   "source": [
    "def calc_loss(prediction,target):\n",
    "    return (prediction-target)**2"
   ]
  },
  {
   "cell_type": "code",
   "execution_count": 12,
   "metadata": {},
   "outputs": [],
   "source": [
    "prediction = quantum_nn(X_train[6],np.random.rand(N))"
   ]
  },
  {
   "cell_type": "code",
   "execution_count": 13,
   "metadata": {},
   "outputs": [],
   "source": [
    "target = Y_train[6]"
   ]
  },
  {
   "cell_type": "code",
   "execution_count": 14,
   "metadata": {},
   "outputs": [
    {
     "data": {
      "text/plain": [
       "0.32069569000000003"
      ]
     },
     "execution_count": 14,
     "metadata": {},
     "output_type": "execute_result"
    }
   ],
   "source": [
    "calc_loss(prediction,target)"
   ]
  },
  {
   "cell_type": "code",
   "execution_count": 15,
   "metadata": {},
   "outputs": [],
   "source": [
    "def gradient(X_i,Y_i,theta):\n",
    "    delta = 0.01\n",
    "    grad = []\n",
    "    dtheta = copy.copy(theta)\n",
    "    for i in range(len(theta)):\n",
    "        dtheta[i] += delta\n",
    "\n",
    "        predict1 = quantum_nn(X_i,dtheta)\n",
    "        predict2 = quantum_nn(X_i,theta)\n",
    "\n",
    "        # Finite difference\n",
    "        grad.append( (calc_loss(predict1,Y_i) - calc_loss(predict2,Y_i)) / delta )\n",
    "    return np.array(grad)        "
   ]
  },
  {
   "cell_type": "code",
   "execution_count": 16,
   "metadata": {},
   "outputs": [],
   "source": [
    "def accuracy(X,Y,theta):\n",
    "    counter = 0\n",
    "    for X_i,Y_i in zip(X,Y):\n",
    "        prediction = quantum_nn(X_i,theta)\n",
    "\n",
    "        if prediction < 0.5 and Y_i == 0:\n",
    "            counter += 1\n",
    "        elif prediction >= 0.5 and Y_i == 1:\n",
    "            counter += 1\n",
    "    return (counter/len(Y))"
   ]
  },
  {
   "cell_type": "code",
   "execution_count": 17,
   "metadata": {},
   "outputs": [
    {
     "name": "stdout",
     "output_type": "stream",
     "text": [
      "Epoch \t Loss \t Accuracy\n",
      "0 \t 0.288 \t 0.164\n",
      "1 \t 0.295 \t 0.194\n",
      "2 \t 0.301 \t 0.164\n",
      "3 \t 0.300 \t 0.179\n",
      "4 \t 0.287 \t 0.179\n",
      "5 \t 0.279 \t 0.209\n",
      "6 \t 0.267 \t 0.149\n",
      "7 \t 0.256 \t 0.776\n",
      "8 \t 0.234 \t 0.806\n",
      "9 \t 0.224 \t 0.806\n",
      "10 \t 0.229 \t 0.731\n",
      "11 \t 0.225 \t 0.806\n",
      "12 \t 0.225 \t 0.791\n",
      "13 \t 0.224 \t 0.821\n",
      "14 \t 0.217 \t 0.821\n",
      "15 \t 0.213 \t 0.851\n",
      "16 \t 0.213 \t 0.821\n",
      "17 \t 0.212 \t 0.821\n",
      "18 \t 0.206 \t 0.836\n",
      "19 \t 0.205 \t 0.821\n",
      "20 \t 0.205 \t 0.836\n",
      "21 \t 0.203 \t 0.836\n",
      "22 \t 0.202 \t 0.806\n",
      "23 \t 0.209 \t 0.791\n",
      "24 \t 0.207 \t 0.851\n",
      "25 \t 0.202 \t 0.836\n",
      "26 \t 0.203 \t 0.791\n",
      "27 \t 0.201 \t 0.836\n",
      "28 \t 0.205 \t 0.851\n",
      "29 \t 0.205 \t 0.836\n"
     ]
    }
   ],
   "source": [
    "epoch = 30\n",
    "eta = 0.05\n",
    "loss_list = []\n",
    "theta = np.ones(N)\n",
    "\n",
    "print(f'Epoch \\t Loss \\t Accuracy')\n",
    "for i in range(epoch):\n",
    "    loss_tmp = []\n",
    "    for X_i,Y_i in zip(X_train,Y_train):\n",
    "        prediction = quantum_nn(X_i,theta)\n",
    "        loss_tmp.append(calc_loss(prediction,Y_i))\n",
    "        \n",
    "        # Update theta by using SGD\n",
    "        theta = theta - eta*gradient(X_i,Y_i,theta)\n",
    "    loss_list.append(np.mean(loss_tmp))\n",
    "    acc = accuracy(X_train,Y_train,theta)\n",
    "\n",
    "    print(f'{i} \\t {loss_list[-1]:.3f} \\t {acc:.3f}')"
   ]
  },
  {
   "cell_type": "code",
   "execution_count": 18,
   "metadata": {},
   "outputs": [
    {
     "data": {
      "image/png": "[encoded data removed]",
      "text/plain": [
       "<Figure size 640x480 with 1 Axes>"
      ]
     },
     "metadata": {},
     "output_type": "display_data"
    }
   ],
   "source": [
    "plt.plot(loss_list)\n",
    "plt.xlabel('Epoch')\n",
    "plt.ylabel('Loss')\n",
    "plt.show()"
   ]
  },
  {
   "cell_type": "code",
   "execution_count": 19,
   "metadata": {},
   "outputs": [
    {
     "data": {
      "text/plain": [
       "0.7575757575757576"
      ]
     },
     "execution_count": 19,
     "metadata": {},
     "output_type": "execute_result"
    }
   ],
   "source": [
    "accuracy(X_test,Y_test,theta)"
   ]
  }
 ],
 "metadata": {
  "kernelspec": {
   "display_name": "base",
   "language": "python",
   "name": "python3"
  },
  "language_info": {
   "codemirror_mode": {
    "name": "ipython",
    "version": 3
   },
   "file_extension": ".py",
   "mimetype": "text/x-python",
   "name": "python",
   "nbconvert_exporter": "python",
   "pygments_lexer": "ipython3",
   "version": "3.9.12"
  }
 },
 "nbformat": 4,
 "nbformat_minor": 2
}
